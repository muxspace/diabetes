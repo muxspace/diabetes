{
 "cells": [
  {
   "cell_type": "code",
   "execution_count": 1,
   "metadata": {},
   "outputs": [
    {
     "name": "stderr",
     "output_type": "stream",
     "text": [
      "Loading diabetes\n",
      "Loading required package: futile.logger\n",
      "Loading required package: randomForest\n",
      "randomForest 4.6-14\n",
      "Type rfNews() to see new features/changes/bug fixes.\n"
     ]
    }
   ],
   "source": [
    "library(devtools)\n",
    "setwd('/app/diabetes')\n",
    "load_all()"
   ]
  },
  {
   "cell_type": "code",
   "execution_count": 3,
   "metadata": {},
   "outputs": [
    {
     "name": "stdout",
     "output_type": "stream",
     "text": [
      "INFO [2018-07-01 16:22:13] Loading file private/diabetes/data-01\n",
      "INFO [2018-07-01 16:22:13] Loading file private/diabetes/data-03\n",
      "INFO [2018-07-01 16:22:13] Loading file private/diabetes/data-04\n",
      "INFO [2018-07-01 16:22:13] Loading file private/diabetes/data-05\n",
      "INFO [2018-07-01 16:22:13] Loading file private/diabetes/data-06\n",
      "INFO [2018-07-01 16:22:13] Loading file private/diabetes/data-07\n",
      "INFO [2018-07-01 16:22:13] Loading file private/diabetes/data-08\n",
      "INFO [2018-07-01 16:22:13] Loading file private/diabetes/data-09\n",
      "INFO [2018-07-01 16:22:13] Loading file private/diabetes/data-10\n",
      "INFO [2018-07-01 16:22:13] Loading file private/diabetes/data-11\n",
      "INFO [2018-07-01 16:22:13] Loading file private/diabetes/data-12\n",
      "INFO [2018-07-01 16:22:13] Loading file private/diabetes/data-13\n",
      "INFO [2018-07-01 16:22:13] Loading file private/diabetes/data-14\n",
      "INFO [2018-07-01 16:22:13] Loading file private/diabetes/data-15\n",
      "INFO [2018-07-01 16:22:13] Loading file private/diabetes/data-16\n",
      "INFO [2018-07-01 16:22:13] Loading file private/diabetes/data-17\n",
      "INFO [2018-07-01 16:22:13] Loading file private/diabetes/data-18\n",
      "INFO [2018-07-01 16:22:13] Loading file private/diabetes/data-19\n",
      "INFO [2018-07-01 16:22:13] Loading file private/diabetes/data-20\n",
      "INFO [2018-07-01 16:22:13] Loading file private/diabetes/data-21\n",
      "INFO [2018-07-01 16:22:13] Loading file private/diabetes/data-22\n",
      "INFO [2018-07-01 16:22:13] Loading file private/diabetes/data-23\n",
      "INFO [2018-07-01 16:22:13] Loading file private/diabetes/data-24\n",
      "INFO [2018-07-01 16:22:13] Loading file private/diabetes/data-25\n",
      "INFO [2018-07-01 16:22:13] Loading file private/diabetes/data-26\n",
      "INFO [2018-07-01 16:22:13] Loading file private/diabetes/data-28\n",
      "INFO [2018-07-01 16:22:13] Loading file private/diabetes/data-30\n",
      "INFO [2018-07-01 16:22:13] Loading file private/diabetes/data-31\n",
      "INFO [2018-07-01 16:22:13] Loading file private/diabetes/data-32\n",
      "INFO [2018-07-01 16:22:13] Loading file private/diabetes/data-33\n",
      "INFO [2018-07-01 16:22:13] Loading file private/diabetes/data-34\n",
      "INFO [2018-07-01 16:22:13] Loading file private/diabetes/data-35\n",
      "INFO [2018-07-01 16:22:13] Loading file private/diabetes/data-36\n",
      "INFO [2018-07-01 16:22:13] Loading file private/diabetes/data-37\n",
      "INFO [2018-07-01 16:22:13] Loading file private/diabetes/data-38\n",
      "INFO [2018-07-01 16:22:13] Loading file private/diabetes/data-39\n",
      "INFO [2018-07-01 16:22:13] Loading file private/diabetes/data-41\n",
      "INFO [2018-07-01 16:22:13] Loading file private/diabetes/data-42\n",
      "INFO [2018-07-01 16:22:13] Loading file private/diabetes/data-43\n",
      "INFO [2018-07-01 16:22:13] Loading file private/diabetes/data-44\n",
      "INFO [2018-07-01 16:22:13] Loading file private/diabetes/data-45\n",
      "INFO [2018-07-01 16:22:13] Loading file private/diabetes/data-46\n",
      "INFO [2018-07-01 16:22:13] Loading file private/diabetes/data-47\n",
      "INFO [2018-07-01 16:22:13] Loading file private/diabetes/data-48\n",
      "INFO [2018-07-01 16:22:13] Loading file private/diabetes/data-49\n",
      "INFO [2018-07-01 16:22:13] Loading file private/diabetes/data-50\n",
      "INFO [2018-07-01 16:22:13] Loading file private/diabetes/data-51\n",
      "INFO [2018-07-01 16:22:13] Loading file private/diabetes/data-52\n",
      "INFO [2018-07-01 16:22:13] Loading file private/diabetes/data-53\n",
      "INFO [2018-07-01 16:22:13] Loading file private/diabetes/data-54\n",
      "INFO [2018-07-01 16:22:13] Loading file private/diabetes/data-55\n",
      "INFO [2018-07-01 16:22:13] Loading file private/diabetes/data-56\n",
      "INFO [2018-07-01 16:22:13] Loading file private/diabetes/data-57\n",
      "INFO [2018-07-01 16:22:13] Loading file private/diabetes/data-58\n",
      "INFO [2018-07-01 16:22:13] Loading file private/diabetes/data-59\n",
      "INFO [2018-07-01 16:22:13] Loading file private/diabetes/data-60\n",
      "INFO [2018-07-01 16:22:13] Loading file private/diabetes/data-61\n",
      "INFO [2018-07-01 16:22:13] Loading file private/diabetes/data-62\n",
      "INFO [2018-07-01 16:22:13] Loading file private/diabetes/data-63\n",
      "INFO [2018-07-01 16:22:13] Loading file private/diabetes/data-64\n",
      "INFO [2018-07-01 16:22:13] Loading file private/diabetes/data-65\n",
      "INFO [2018-07-01 16:22:13] Loading file private/diabetes/data-66\n",
      "INFO [2018-07-01 16:22:13] Loading file private/diabetes/data-67\n",
      "INFO [2018-07-01 16:22:13] Loading file private/diabetes/data-68\n",
      "INFO [2018-07-01 16:22:13] Loading file private/diabetes/data-69\n",
      "INFO [2018-07-01 16:22:13] Loading file private/diabetes/data-70\n",
      "INFO [2018-07-01 16:22:13] Removing 12 bad timestamps\n",
      "INFO [2018-07-01 16:22:14] Final size is 20166 rows\n",
      "INFO [2018-07-01 16:22:14] Work on patient 1\n",
      "INFO [2018-07-01 16:22:14] Work on patient 3\n",
      "INFO [2018-07-01 16:22:14] Work on patient 4\n",
      "INFO [2018-07-01 16:22:14] Work on patient 5\n",
      "INFO [2018-07-01 16:22:14] Work on patient 6\n",
      "INFO [2018-07-01 16:22:14] Work on patient 7\n",
      "INFO [2018-07-01 16:22:14] Work on patient 8\n",
      "INFO [2018-07-01 16:22:14] Work on patient 9\n",
      "INFO [2018-07-01 16:22:14] Work on patient 10\n",
      "INFO [2018-07-01 16:22:14] Work on patient 11\n",
      "INFO [2018-07-01 16:22:14] Work on patient 12\n",
      "INFO [2018-07-01 16:22:14] Work on patient 13\n",
      "INFO [2018-07-01 16:22:14] Work on patient 14\n",
      "INFO [2018-07-01 16:22:14] Work on patient 15\n",
      "INFO [2018-07-01 16:22:14] Work on patient 16\n",
      "INFO [2018-07-01 16:22:14] Work on patient 17\n",
      "INFO [2018-07-01 16:22:14] Work on patient 18\n",
      "INFO [2018-07-01 16:22:14] Work on patient 19\n",
      "INFO [2018-07-01 16:22:14] Work on patient 20\n",
      "INFO [2018-07-01 16:22:14] Work on patient 21\n",
      "INFO [2018-07-01 16:22:14] Work on patient 22\n",
      "WARN [2018-07-01 16:22:14] Skipping patient 22 with no glucose measurements\n",
      "INFO [2018-07-01 16:22:14] Work on patient 23\n",
      "INFO [2018-07-01 16:22:14] Work on patient 24\n",
      "INFO [2018-07-01 16:22:14] Work on patient 25\n",
      "WARN [2018-07-01 16:22:14] Skipping patient 25 with no glucose measurements\n",
      "INFO [2018-07-01 16:22:14] Work on patient 26\n",
      "INFO [2018-07-01 16:22:14] Work on patient 28\n",
      "INFO [2018-07-01 16:22:14] Work on patient 30\n",
      "INFO [2018-07-01 16:22:14] Work on patient 31\n",
      "INFO [2018-07-01 16:22:14] Work on patient 32\n",
      "INFO [2018-07-01 16:22:14] Work on patient 33\n",
      "INFO [2018-07-01 16:22:14] Work on patient 34\n",
      "INFO [2018-07-01 16:22:14] Work on patient 35\n",
      "INFO [2018-07-01 16:22:14] Work on patient 36\n",
      "INFO [2018-07-01 16:22:14] Work on patient 37\n",
      "INFO [2018-07-01 16:22:14] Work on patient 38\n",
      "INFO [2018-07-01 16:22:14] Work on patient 39\n",
      "INFO [2018-07-01 16:22:14] Work on patient 41\n",
      "INFO [2018-07-01 16:22:14] Work on patient 42\n",
      "INFO [2018-07-01 16:22:14] Work on patient 43\n",
      "INFO [2018-07-01 16:22:14] Work on patient 44\n",
      "INFO [2018-07-01 16:22:14] Work on patient 45\n",
      "INFO [2018-07-01 16:22:14] Work on patient 46\n",
      "INFO [2018-07-01 16:22:14] Work on patient 47\n",
      "INFO [2018-07-01 16:22:14] Work on patient 48\n",
      "INFO [2018-07-01 16:22:14] Work on patient 49\n",
      "INFO [2018-07-01 16:22:14] Work on patient 50\n",
      "INFO [2018-07-01 16:22:14] Work on patient 51\n",
      "INFO [2018-07-01 16:22:14] Work on patient 52\n",
      "INFO [2018-07-01 16:22:14] Work on patient 53\n",
      "INFO [2018-07-01 16:22:14] Work on patient 54\n",
      "INFO [2018-07-01 16:22:14] Work on patient 55\n",
      "INFO [2018-07-01 16:22:14] Work on patient 56\n",
      "INFO [2018-07-01 16:22:14] Work on patient 57\n",
      "INFO [2018-07-01 16:22:14] Work on patient 58\n",
      "INFO [2018-07-01 16:22:14] Work on patient 59\n",
      "INFO [2018-07-01 16:22:14] Work on patient 60\n",
      "INFO [2018-07-01 16:22:14] Work on patient 61\n",
      "INFO [2018-07-01 16:22:14] Work on patient 62\n",
      "INFO [2018-07-01 16:22:14] Work on patient 63\n",
      "INFO [2018-07-01 16:22:14] Work on patient 65\n",
      "INFO [2018-07-01 16:22:14] Work on patient 66\n",
      "WARN [2018-07-01 16:22:14] Skipping patient 66 with no glucose measurements\n",
      "INFO [2018-07-01 16:22:14] Work on patient 67\n",
      "INFO [2018-07-01 16:22:14] Work on patient 68\n",
      "INFO [2018-07-01 16:22:14] Work on patient 70\n"
     ]
    }
   ],
   "source": [
    "df <- transform_diabetes(read_diabetes())\n",
    "glucose <- construct_glucose_features(df)\n",
    "pair <- split_glucose(glucose)"
   ]
  },
  {
   "cell_type": "code",
   "execution_count": 4,
   "metadata": {},
   "outputs": [],
   "source": [
    "model <- fit_glucose(pair$train)\n",
    "pred <- predict_glucose(pair$test, model)"
   ]
  },
  {
   "cell_type": "code",
   "execution_count": 7,
   "metadata": {},
   "outputs": [
    {
     "data": {
      "image/png": "[encoded data removed]",
      "text/plain": [
       "Plot with title “Glucose prediction error”"
      ]
     },
     "metadata": {},
     "output_type": "display_data"
    }
   ],
   "source": [
    "err <- error_glucose(pred, pair$test$glucose)\n",
    "plot_glucose_error(err)"
   ]
  }
 ],
 "metadata": {
  "kernelspec": {
   "display_name": "R",
   "language": "R",
   "name": "ir"
  },
  "language_info": {
   "codemirror_mode": "r",
   "file_extension": ".r",
   "mimetype": "text/x-r-source",
   "name": "R",
   "pygments_lexer": "r",
   "version": "3.4.4"
  }
 },
 "nbformat": 4,
 "nbformat_minor": 2
}
